{
 "cells": [
  {
   "cell_type": "code",
   "execution_count": 54,
   "metadata": {},
   "outputs": [],
   "source": [
    "# Importing  Libraries\n",
    "import pandas as pd\n",
    "import numpy as np\n",
    "import seaborn as sns\n",
    "import matplotlib.pyplot as plt\n",
    "from sklearn.preprocessing import MinMaxScaler\n",
    "from sklearn.linear_model import LinearRegression\n",
    "from sklearn.model_selection import train_test_split\n",
    "from sklearn.metrics import mean_squared_error, r2_score, mean_absolute_error\n",
    "from sklearn import metrics"
   ]
  },
  {
   "cell_type": "code",
   "execution_count": 55,
   "metadata": {},
   "outputs": [],
   "source": [
    "# Reading the file\n",
    "restaurant= pd.read_csv('Rest_rev.csv')"
   ]
  },
  {
   "cell_type": "code",
   "execution_count": 56,
   "metadata": {},
   "outputs": [
    {
     "name": "stdout",
     "output_type": "stream",
     "text": [
      "<class 'pandas.core.frame.DataFrame'>\n",
      "RangeIndex: 1000 entries, 0 to 999\n",
      "Data columns (total 8 columns):\n",
      " #   Column                     Non-Null Count  Dtype  \n",
      "---  ------                     --------------  -----  \n",
      " 0   Number_of_Customers        1000 non-null   int64  \n",
      " 1   Menu_Price                 1000 non-null   float64\n",
      " 2   Marketing_Spend            1000 non-null   float64\n",
      " 3   Cuisine_Type               1000 non-null   object \n",
      " 4   Average_Customer_Spending  1000 non-null   float64\n",
      " 5   Promotions                 1000 non-null   int64  \n",
      " 6   Reviews                    1000 non-null   int64  \n",
      " 7   Monthly_Revenue            1000 non-null   float64\n",
      "dtypes: float64(4), int64(3), object(1)\n",
      "memory usage: 62.6+ KB\n"
     ]
    }
   ],
   "source": [
    "# Checking the Data (Restaurant) Information\n",
    "restaurant.info()"
   ]
  },
  {
   "cell_type": "code",
   "execution_count": 57,
   "metadata": {},
   "outputs": [
    {
     "data": {
      "application/vnd.microsoft.datawrangler.viewer.v0+json": {
       "columns": [
        {
         "name": "index",
         "rawType": "object",
         "type": "string"
        },
        {
         "name": "Number_of_Customers",
         "rawType": "float64",
         "type": "float"
        },
        {
         "name": "Menu_Price",
         "rawType": "float64",
         "type": "float"
        },
        {
         "name": "Marketing_Spend",
         "rawType": "float64",
         "type": "float"
        },
        {
         "name": "Average_Customer_Spending",
         "rawType": "float64",
         "type": "float"
        },
        {
         "name": "Promotions",
         "rawType": "float64",
         "type": "float"
        },
        {
         "name": "Reviews",
         "rawType": "float64",
         "type": "float"
        },
        {
         "name": "Monthly_Revenue",
         "rawType": "float64",
         "type": "float"
        }
       ],
       "conversionMethod": "pd.DataFrame",
       "ref": "e5f2ab6c-ff0d-4f87-ac39-22dc15712bda",
       "rows": [
        [
         "count",
         "1000.0",
         "1000.0",
         "1000.0",
         "1000.0",
         "1000.0",
         "1000.0",
         "1000.0"
        ],
        [
         "mean",
         "53.271",
         "30.219120192362524",
         "9.958725936364637",
         "29.477084922525943",
         "0.497",
         "49.837",
         "268.724172298048"
        ],
        [
         "std",
         "26.36491357216382",
         "11.278759730211192",
         "5.845586448299477",
         "11.47168581505297",
         "0.5002411830719641",
         "29.226334180146623",
         "103.98294996802564"
        ],
        [
         "min",
         "10.0",
         "10.009500943035384",
         "0.0037679911316379",
         "10.037176674798442",
         "0.0",
         "0.0",
         "-28.977808785917876"
        ],
        [
         "25%",
         "30.0",
         "20.396827554563956",
         "4.690723860715169",
         "19.60304084582713",
         "0.0",
         "24.0",
         "197.10364179213317"
        ],
        [
         "50%",
         "54.0",
         "30.860614280995648",
         "10.09204713827428",
         "29.251365177457984",
         "0.0",
         "50.0",
         "270.2139642707142"
        ],
        [
         "75%",
         "74.0",
         "39.843867522287155",
         "14.992436089215655",
         "39.55321950840744",
         "1.0",
         "76.0",
         "343.395792775241"
        ],
        [
         "max",
         "99.0",
         "49.9741399826334",
         "19.99427608311828",
         "49.900725246907",
         "1.0",
         "99.0",
         "563.3813323600473"
        ]
       ],
       "shape": {
        "columns": 7,
        "rows": 8
       }
      },
      "text/html": [
       "<div>\n",
       "<style scoped>\n",
       "    .dataframe tbody tr th:only-of-type {\n",
       "        vertical-align: middle;\n",
       "    }\n",
       "\n",
       "    .dataframe tbody tr th {\n",
       "        vertical-align: top;\n",
       "    }\n",
       "\n",
       "    .dataframe thead th {\n",
       "        text-align: right;\n",
       "    }\n",
       "</style>\n",
       "<table border=\"1\" class=\"dataframe\">\n",
       "  <thead>\n",
       "    <tr style=\"text-align: right;\">\n",
       "      <th></th>\n",
       "      <th>Number_of_Customers</th>\n",
       "      <th>Menu_Price</th>\n",
       "      <th>Marketing_Spend</th>\n",
       "      <th>Average_Customer_Spending</th>\n",
       "      <th>Promotions</th>\n",
       "      <th>Reviews</th>\n",
       "      <th>Monthly_Revenue</th>\n",
       "    </tr>\n",
       "  </thead>\n",
       "  <tbody>\n",
       "    <tr>\n",
       "      <th>count</th>\n",
       "      <td>1000.000000</td>\n",
       "      <td>1000.000000</td>\n",
       "      <td>1000.000000</td>\n",
       "      <td>1000.000000</td>\n",
       "      <td>1000.000000</td>\n",
       "      <td>1000.000000</td>\n",
       "      <td>1000.000000</td>\n",
       "    </tr>\n",
       "    <tr>\n",
       "      <th>mean</th>\n",
       "      <td>53.271000</td>\n",
       "      <td>30.219120</td>\n",
       "      <td>9.958726</td>\n",
       "      <td>29.477085</td>\n",
       "      <td>0.497000</td>\n",
       "      <td>49.837000</td>\n",
       "      <td>268.724172</td>\n",
       "    </tr>\n",
       "    <tr>\n",
       "      <th>std</th>\n",
       "      <td>26.364914</td>\n",
       "      <td>11.278760</td>\n",
       "      <td>5.845586</td>\n",
       "      <td>11.471686</td>\n",
       "      <td>0.500241</td>\n",
       "      <td>29.226334</td>\n",
       "      <td>103.982950</td>\n",
       "    </tr>\n",
       "    <tr>\n",
       "      <th>min</th>\n",
       "      <td>10.000000</td>\n",
       "      <td>10.009501</td>\n",
       "      <td>0.003768</td>\n",
       "      <td>10.037177</td>\n",
       "      <td>0.000000</td>\n",
       "      <td>0.000000</td>\n",
       "      <td>-28.977809</td>\n",
       "    </tr>\n",
       "    <tr>\n",
       "      <th>25%</th>\n",
       "      <td>30.000000</td>\n",
       "      <td>20.396828</td>\n",
       "      <td>4.690724</td>\n",
       "      <td>19.603041</td>\n",
       "      <td>0.000000</td>\n",
       "      <td>24.000000</td>\n",
       "      <td>197.103642</td>\n",
       "    </tr>\n",
       "    <tr>\n",
       "      <th>50%</th>\n",
       "      <td>54.000000</td>\n",
       "      <td>30.860614</td>\n",
       "      <td>10.092047</td>\n",
       "      <td>29.251365</td>\n",
       "      <td>0.000000</td>\n",
       "      <td>50.000000</td>\n",
       "      <td>270.213964</td>\n",
       "    </tr>\n",
       "    <tr>\n",
       "      <th>75%</th>\n",
       "      <td>74.000000</td>\n",
       "      <td>39.843868</td>\n",
       "      <td>14.992436</td>\n",
       "      <td>39.553220</td>\n",
       "      <td>1.000000</td>\n",
       "      <td>76.000000</td>\n",
       "      <td>343.395793</td>\n",
       "    </tr>\n",
       "    <tr>\n",
       "      <th>max</th>\n",
       "      <td>99.000000</td>\n",
       "      <td>49.974140</td>\n",
       "      <td>19.994276</td>\n",
       "      <td>49.900725</td>\n",
       "      <td>1.000000</td>\n",
       "      <td>99.000000</td>\n",
       "      <td>563.381332</td>\n",
       "    </tr>\n",
       "  </tbody>\n",
       "</table>\n",
       "</div>"
      ],
      "text/plain": [
       "       Number_of_Customers   Menu_Price  Marketing_Spend  \\\n",
       "count          1000.000000  1000.000000      1000.000000   \n",
       "mean             53.271000    30.219120         9.958726   \n",
       "std              26.364914    11.278760         5.845586   \n",
       "min              10.000000    10.009501         0.003768   \n",
       "25%              30.000000    20.396828         4.690724   \n",
       "50%              54.000000    30.860614        10.092047   \n",
       "75%              74.000000    39.843868        14.992436   \n",
       "max              99.000000    49.974140        19.994276   \n",
       "\n",
       "       Average_Customer_Spending   Promotions      Reviews  Monthly_Revenue  \n",
       "count                1000.000000  1000.000000  1000.000000      1000.000000  \n",
       "mean                   29.477085     0.497000    49.837000       268.724172  \n",
       "std                    11.471686     0.500241    29.226334       103.982950  \n",
       "min                    10.037177     0.000000     0.000000       -28.977809  \n",
       "25%                    19.603041     0.000000    24.000000       197.103642  \n",
       "50%                    29.251365     0.000000    50.000000       270.213964  \n",
       "75%                    39.553220     1.000000    76.000000       343.395793  \n",
       "max                    49.900725     1.000000    99.000000       563.381332  "
      ]
     },
     "execution_count": 57,
     "metadata": {},
     "output_type": "execute_result"
    }
   ],
   "source": [
    "# Perform a Descriptive Statistics\n",
    "restaurant.describe()"
   ]
  },
  {
   "cell_type": "code",
   "execution_count": 58,
   "metadata": {},
   "outputs": [
    {
     "name": "stdout",
     "output_type": "stream",
     "text": [
      "Number of Unique Values in Every Column:\n",
      "Number_of_Customers            90\n",
      "Menu_Price                   1000\n",
      "Marketing_Spend              1000\n",
      "Cuisine_Type                    4\n",
      "Average_Customer_Spending    1000\n",
      "Promotions                      2\n",
      "Reviews                       100\n",
      "Monthly_Revenue              1000\n",
      "dtype: int64\n",
      "\n"
     ]
    }
   ],
   "source": [
    "# Checking for unique values in each column\n",
    "R= restaurant.nunique(axis = 0)\n",
    "print(f'Number of Unique Values in Every Column:\\n{R}\\n')"
   ]
  },
  {
   "cell_type": "code",
   "execution_count": 59,
   "metadata": {},
   "outputs": [
    {
     "name": "stdout",
     "output_type": "stream",
     "text": [
      "Missing Values in the Dataset:\n",
      "     Number_of_Customers  Menu_Price  Marketing_Spend Cuisine_Type  \\\n",
      "0                     61   43.117635        12.663793     Japanese   \n",
      "1                     24   40.020077         4.577892      Italian   \n",
      "2                     81   41.981485         4.652911     Japanese   \n",
      "3                     70   43.005307         4.416053      Italian   \n",
      "4                     30   17.456199         3.475052      Italian   \n",
      "..                   ...         ...              ...          ...   \n",
      "995                   73   41.307842        12.122931     Japanese   \n",
      "996                   31   20.615496         5.822885      Mexican   \n",
      "997                   69   17.110656         4.141898     Japanese   \n",
      "998                   73   37.664722         3.046556     Japanese   \n",
      "999                   81   34.722067        17.989104      Italian   \n",
      "\n",
      "     Average_Customer_Spending  Promotions  Reviews  Monthly_Revenue  \n",
      "0                    36.236133           0       45       350.912040  \n",
      "1                    17.952562           0       36       221.319091  \n",
      "2                    22.600420           1       91       326.529763  \n",
      "3                    18.984098           1       59       348.190573  \n",
      "4                    12.766143           1       30       185.009121  \n",
      "..                         ...         ...      ...              ...  \n",
      "995                  19.033585           1       40       249.312034  \n",
      "996                  17.040990           0       57       110.228767  \n",
      "997                  44.649315           0       55       312.212552  \n",
      "998                  27.767358           0       23       272.482204  \n",
      "999                  15.482112           1       72       379.973072  \n",
      "\n",
      "[1000 rows x 8 columns]\n",
      "\n"
     ]
    }
   ],
   "source": [
    "# Checking for missing values in the dataset (NaN values)\n",
    "check_nan = restaurant.isnull().sum()\n",
    "print(f'Missing Values in the Dataset:\\n{restaurant}\\n')"
   ]
  },
  {
   "cell_type": "code",
   "execution_count": 60,
   "metadata": {},
   "outputs": [
    {
     "data": {
      "application/vnd.microsoft.datawrangler.viewer.v0+json": {
       "columns": [
        {
         "name": "index",
         "rawType": "int64",
         "type": "integer"
        },
        {
         "name": "Number_of_Customers",
         "rawType": "int64",
         "type": "integer"
        },
        {
         "name": "Menu_Price",
         "rawType": "float64",
         "type": "float"
        },
        {
         "name": "Marketing_Spend",
         "rawType": "float64",
         "type": "float"
        },
        {
         "name": "Cuisine_Type",
         "rawType": "int64",
         "type": "integer"
        },
        {
         "name": "Average_Customer_Spending",
         "rawType": "float64",
         "type": "float"
        },
        {
         "name": "Promotions",
         "rawType": "int64",
         "type": "integer"
        },
        {
         "name": "Reviews",
         "rawType": "int64",
         "type": "integer"
        },
        {
         "name": "Monthly_Revenue",
         "rawType": "float64",
         "type": "float"
        }
       ],
       "conversionMethod": "pd.DataFrame",
       "ref": "e57bbeb1-8ff4-4e71-a787-e309643f128c",
       "rows": [
        [
         "0",
         "61",
         "43.11763548709968",
         "12.66379252026928",
         "0",
         "36.23613252393598",
         "0",
         "45",
         "350.9120399867156"
        ],
        [
         "1",
         "24",
         "40.02007699061254",
         "4.577892096932272",
         "3",
         "17.95256243749612",
         "0",
         "36",
         "221.3190913292622"
        ],
        [
         "2",
         "81",
         "41.98148523678063",
         "4.65291077125362",
         "0",
         "22.600420287336984",
         "1",
         "91",
         "326.52976287588587"
        ],
        [
         "3",
         "70",
         "43.00530706771189",
         "4.416052595712783",
         "3",
         "18.984097602995394",
         "1",
         "59",
         "348.19057312560795"
        ],
        [
         "4",
         "30",
         "17.456199471525764",
         "3.47505191324589",
         "3",
         "12.766142708740048",
         "1",
         "30",
         "185.0091205967936"
        ]
       ],
       "shape": {
        "columns": 8,
        "rows": 5
       }
      },
      "text/html": [
       "<div>\n",
       "<style scoped>\n",
       "    .dataframe tbody tr th:only-of-type {\n",
       "        vertical-align: middle;\n",
       "    }\n",
       "\n",
       "    .dataframe tbody tr th {\n",
       "        vertical-align: top;\n",
       "    }\n",
       "\n",
       "    .dataframe thead th {\n",
       "        text-align: right;\n",
       "    }\n",
       "</style>\n",
       "<table border=\"1\" class=\"dataframe\">\n",
       "  <thead>\n",
       "    <tr style=\"text-align: right;\">\n",
       "      <th></th>\n",
       "      <th>Number_of_Customers</th>\n",
       "      <th>Menu_Price</th>\n",
       "      <th>Marketing_Spend</th>\n",
       "      <th>Cuisine_Type</th>\n",
       "      <th>Average_Customer_Spending</th>\n",
       "      <th>Promotions</th>\n",
       "      <th>Reviews</th>\n",
       "      <th>Monthly_Revenue</th>\n",
       "    </tr>\n",
       "  </thead>\n",
       "  <tbody>\n",
       "    <tr>\n",
       "      <th>0</th>\n",
       "      <td>61</td>\n",
       "      <td>43.117635</td>\n",
       "      <td>12.663793</td>\n",
       "      <td>0</td>\n",
       "      <td>36.236133</td>\n",
       "      <td>0</td>\n",
       "      <td>45</td>\n",
       "      <td>350.912040</td>\n",
       "    </tr>\n",
       "    <tr>\n",
       "      <th>1</th>\n",
       "      <td>24</td>\n",
       "      <td>40.020077</td>\n",
       "      <td>4.577892</td>\n",
       "      <td>3</td>\n",
       "      <td>17.952562</td>\n",
       "      <td>0</td>\n",
       "      <td>36</td>\n",
       "      <td>221.319091</td>\n",
       "    </tr>\n",
       "    <tr>\n",
       "      <th>2</th>\n",
       "      <td>81</td>\n",
       "      <td>41.981485</td>\n",
       "      <td>4.652911</td>\n",
       "      <td>0</td>\n",
       "      <td>22.600420</td>\n",
       "      <td>1</td>\n",
       "      <td>91</td>\n",
       "      <td>326.529763</td>\n",
       "    </tr>\n",
       "    <tr>\n",
       "      <th>3</th>\n",
       "      <td>70</td>\n",
       "      <td>43.005307</td>\n",
       "      <td>4.416053</td>\n",
       "      <td>3</td>\n",
       "      <td>18.984098</td>\n",
       "      <td>1</td>\n",
       "      <td>59</td>\n",
       "      <td>348.190573</td>\n",
       "    </tr>\n",
       "    <tr>\n",
       "      <th>4</th>\n",
       "      <td>30</td>\n",
       "      <td>17.456199</td>\n",
       "      <td>3.475052</td>\n",
       "      <td>3</td>\n",
       "      <td>12.766143</td>\n",
       "      <td>1</td>\n",
       "      <td>30</td>\n",
       "      <td>185.009121</td>\n",
       "    </tr>\n",
       "  </tbody>\n",
       "</table>\n",
       "</div>"
      ],
      "text/plain": [
       "   Number_of_Customers  Menu_Price  Marketing_Spend  Cuisine_Type  \\\n",
       "0                   61   43.117635        12.663793             0   \n",
       "1                   24   40.020077         4.577892             3   \n",
       "2                   81   41.981485         4.652911             0   \n",
       "3                   70   43.005307         4.416053             3   \n",
       "4                   30   17.456199         3.475052             3   \n",
       "\n",
       "   Average_Customer_Spending  Promotions  Reviews  Monthly_Revenue  \n",
       "0                  36.236133           0       45       350.912040  \n",
       "1                  17.952562           0       36       221.319091  \n",
       "2                  22.600420           1       91       326.529763  \n",
       "3                  18.984098           1       59       348.190573  \n",
       "4                  12.766143           1       30       185.009121  "
      ]
     },
     "execution_count": 60,
     "metadata": {},
     "output_type": "execute_result"
    }
   ],
   "source": [
    "# Exploratory Analysis of the Restaurant Dataset\n",
    "# Converting it to Cuisine_Type (Categorical) to Numerical feature\n",
    "\n",
    "rep_cusi = {'Japanese': 0, 'American': 1, 'Mexican': 2, 'Italian':3}\n",
    "restaurant['Cuisine_Type'] = restaurant['Cuisine_Type'].map(rep_cusi)\n",
    "restaurant.head()"
   ]
  },
  {
   "cell_type": "code",
   "execution_count": 67,
   "metadata": {},
   "outputs": [],
   "source": [
    "# Data Normalisation of the dataset before splitting.\n",
    "Scaler = MinMaxScaler()\n",
    "c2s = ['Menu_Price', 'Marketing_Spend']\n",
    "restaurant[c2s] = Scaler.fit_transform(restaurant[c2s])\n",
    "\n",
    "# # Displaying the first few rows\n",
    "# restaurant.head()"
   ]
  },
  {
   "cell_type": "code",
   "execution_count": 68,
   "metadata": {},
   "outputs": [],
   "source": [
    "# Preparing Model Training/Testing Data\n",
    "X = restaurant.drop('Monthly_Revenue', axis = 1)\n",
    "X = pd.get_dummies(X, drop_first = True)\n",
    "Y = restaurant['Monthly_Revenue']\n",
    "\n",
    "# Splitting the dataset into the Training set and Test set\n",
    "X_Train, X_Test, Y_Train, Y_Test = train_test_split(X, Y, test_size = 0.3)\n",
    "\n",
    "# # Displaying the first few rows of the dataset\n",
    "# print(restaurant.head())"
   ]
  },
  {
   "cell_type": "code",
   "execution_count": 63,
   "metadata": {},
   "outputs": [],
   "source": [
    "# Model Training and Testing\n",
    "Regressor = LinearRegression()\n",
    "Regressor.fit(X_Train, Y_Train)\n",
    "\n",
    "# Predict on train and test sets\n",
    "Y_Train_pred = Regressor.predict(X_Train)\n",
    "Y_Test_pred =   Regressor.predict(X_Test)"
   ]
  },
  {
   "cell_type": "code",
   "execution_count": 70,
   "metadata": {},
   "outputs": [
    {
     "name": "stdout",
     "output_type": "stream",
     "text": [
      "Test Data:\n",
      "Mean Squared Error: 20873.904945167284\n",
      "Root Mean Square Error: 144.47804312478516\n",
      "Mean Absolute Error: 117.05396831323645\n",
      "Train Data:\n",
      "Mean Squared Error: 18412.484667176028\n",
      "Root Mean Square Error: 135.6926109527561\n",
      "Mean Absolute Error: 110.22401711111004\n"
     ]
    }
   ],
   "source": [
    "# Model Evaluation on Train and Test Data\n",
    "# Model Evaluation on Test Set\n",
    "MSE_Test = mean_squared_error(Y_Test, Y_Test_pred)\n",
    "RMSE_Test = np.sqrt(MSE_Test)\n",
    "MAE_Test = mean_absolute_error(Y_Test, Y_Test_pred)\n",
    "\n",
    "# Display MSE, RMSE and MAE for Test Set\n",
    "print('Test Data:')\n",
    "print('Mean Squared Error:', MSE_Test)\n",
    "print('Root Mean Square Error:', RMSE_Test)\n",
    "print('Mean Absolute Error:', MAE_Test)\n",
    "\n",
    "# Calculating the MSE, RMSE and MAE for Train set\n",
    "MSE_Train = mean_squared_error(Y_Train, Y_Train_pred)\n",
    "RMSE_Train= np.sqrt(MSE_Train)\n",
    "MAE_Train = mean_absolute_error(Y_Train, Y_Train_pred)\n",
    "\n",
    "# Display MSE, RMSE and MAE for Train set\n",
    "print('Train Data:')\n",
    "print('Mean Squared Error:', MSE_Train)\n",
    "print('Root Mean Square Error:', RMSE_Train)\n",
    "print('Mean Absolute Error:', MAE_Train)"
   ]
  },
  {
   "cell_type": "code",
   "execution_count": 73,
   "metadata": {},
   "outputs": [
    {
     "name": "stdout",
     "output_type": "stream",
     "text": [
      "         Actual   Predicted\n",
      "266  120.226950  301.842094\n",
      "343  314.167628  248.522443\n",
      "516  390.925598  175.061180\n",
      "41   305.965599  289.101880\n",
      "987  369.969104  193.136418\n",
      "..          ...         ...\n",
      "241  304.476143  320.465518\n",
      "829  342.897837  255.798820\n",
      "76   233.324769  325.551519\n",
      "131  490.230727  340.902087\n",
      "644  363.007780  214.235969\n",
      "\n",
      "[300 rows x 2 columns]\n"
     ]
    }
   ],
   "source": [
    "# Generate a table showing the predicted vs actual values for the test set\n",
    "Table_AP = pd.DataFrame({'Actual': Y_Test, 'Predicted': Y_Test_pred})\n",
    "print(Table_AP)\n",
    "\n",
    "# # Linearity Check\n",
    "# # Scatter Plot Visualisation\n",
    "# plt.scatter(Y_Test, Y_Test_pred)\n",
    "# plt.plot([Y_Test.min(), Y_Test.max()], [Y_Test.min(), Y_Test.max()], color = 'red')\n",
    "# plt.xlabel('Actual Monthly Revenue')\n",
    "# plt.ylabel('Predicted Revenue')\n",
    "# plt.title(\"Actual Monthly Revenue vs Predicted\")\n",
    "# plt.show()"
   ]
  },
  {
   "cell_type": "code",
   "execution_count": 66,
   "metadata": {},
   "outputs": [
    {
     "data": {
      "image/png": "[encoded data removed]",
      "text/plain": [
       "<Figure size 800x800 with 2 Axes>"
      ]
     },
     "metadata": {},
     "output_type": "display_data"
    }
   ],
   "source": [
    "# Checking the correlation matrix of the dataset\n",
    "correlation_matrix = restaurant.corr()\n",
    "\n",
    "# Create a heatmap using seaborn\n",
    "plt.figure(figsize=(8, 8))\n",
    "sns.heatmap(correlation_matrix, annot=True, cmap='coolwarm', linewidths=0.5)\n",
    "plt.title('Correlation Heatmap')\n",
    "plt.show()"
   ]
  }
 ],
 "metadata": {
  "kernelspec": {
   "display_name": "base",
   "language": "python",
   "name": "python3"
  },
  "language_info": {
   "codemirror_mode": {
    "name": "ipython",
    "version": 3
   },
   "file_extension": ".py",
   "mimetype": "text/x-python",
   "name": "python",
   "nbconvert_exporter": "python",
   "pygments_lexer": "ipython3",
   "version": "3.12.7"
  }
 },
 "nbformat": 4,
 "nbformat_minor": 2
}
